{
 "cells": [
  {
   "cell_type": "markdown",
   "metadata": {},
   "source": [
    "### Exploración de datos"
   ]
  },
  {
   "cell_type": "code",
   "execution_count": null,
   "metadata": {},
   "outputs": [],
   "source": [
    "import os\n",
    "import pandas as pd\n",
    "import numpy as np\n",
    "\n",
    "import matplotlib.pyplot as plt\n",
    "import seaborn as sns\n",
    "\n",
    "import datetime as dt\n",
    "\n",
    "pd.set_option('display.max_columns',500)\n",
    "pd.set_option('display.float_format',lambda x: '%.2f' % x)"
   ]
  },
  {
   "cell_type": "markdown",
   "metadata": {},
   "source": [
    "### Funciones"
   ]
  },
  {
   "cell_type": "code",
   "execution_count": null,
   "metadata": {},
   "outputs": [],
   "source": [
    "def histograma(df,col,bins=10):\n",
    "\n",
    "    sns.set(style=\"whitegrid\")\n",
    "    plt.figure(figsize=(10, 6))\n",
    "\n",
    "    aux = df[col].copy()\n",
    "    sns.histplot(aux, bins=bins, kde=False, color='skyblue')\n",
    "\n",
    "    # Configuración del gráfico\n",
    "    plt.title(f'Histograma de {col}', fontsize=16)\n",
    "    plt.xlabel(col, fontsize=12)\n",
    "    plt.ylabel('Frecuencia', fontsize=12)\n",
    "    plt.grid(axis='y', linestyle='--', alpha=0.7)\n",
    "\n",
    "    # Mostrar el gráfico\n",
    "    plt.show()"
   ]
  },
  {
   "cell_type": "markdown",
   "metadata": {},
   "source": [
    "### Objetivo\n",
    "    1. Conocer los tipos de alojamientos que ofrecen nuestros socios a traves de un análisis de clusters\n",
    "    2. Ofrecer a nuestros socios un precio sugerido por medio de un modelo supervisado, tomando en cuenta a los host que han tenido una \n",
    "       mayor demanda dentro de su ubicación\n",
    "    3. Evaluar el impacto(beneficio) finaciero esperado ofreciendo el precio propuesto por el modelo vs el cliente\n",
    "    4. Evaluar la alternativa de ofrecer a nuestro socio un bono porcentual sobre cada alquiler, por ejemplo, sí el modelo sugiere \n",
    "       un precio de $100 proponer que lo ofrezca a $90. Airbnb pondría los $10 adicionales y el espacio de nuestro socio sería más \n",
    "       competitivo en precios.\n",
    "    5. Sugerir servicios adicionales a nuestros socios para que sea más atractivo a nuestros clientes. \n"
   ]
  },
  {
   "cell_type": "markdown",
   "metadata": {},
   "source": [
    "##### ¿Qué significa ser SUPERHOST?\n",
    "    El Programa de Superhost proporciona ventajas a los anfitriones que se distinguen por alcanzar y mantener objetivos de rendimiento \n",
    "    específicos. No es necesario que solicite su inclusión en el Programa de Superhost. Si reúne los requisitos, \n",
    "    será incluido de forma automática."
   ]
  },
  {
   "cell_type": "markdown",
   "metadata": {},
   "source": [
    "### Load"
   ]
  },
  {
   "cell_type": "code",
   "execution_count": null,
   "metadata": {},
   "outputs": [],
   "source": [
    "ltgs = pd.read_csv('listings.csv')\n",
    "rvws = pd.read_csv('reviews.csv')"
   ]
  },
  {
   "cell_type": "code",
   "execution_count": null,
   "metadata": {},
   "outputs": [],
   "source": [
    "vars = ['id','source','host_is_superhost','host_verifications','host_identity_verified','neighbourhood_cleansed','latitude','longitude','property_type',\n",
    "        'room_type','accommodates','bathrooms_text','bedrooms','beds','amenities','price','minimum_nights','maximum_nights','number_of_reviews',\n",
    "        'number_of_reviews_ltm','number_of_reviews_l30d','first_review','last_review','review_scores_rating','review_scores_accuracy',\n",
    "        'review_scores_cleanliness','review_scores_checkin','review_scores_communication','review_scores_location','review_scores_value',\n",
    "        'instant_bookable','calculated_host_listings_count','calculated_host_listings_count_entire_homes','calculated_host_listings_count_private_rooms',\n",
    "        'calculated_host_listings_count_shared_rooms','reviews_per_month']\n",
    "varc = sorted(list(set(vars) - set(['id','source','calculated_host_listings_count','calculated_host_listings_count_entire_homes',\n",
    "                             'calculated_host_listings_count_private_rooms','calculated_host_listings_count_shared_rooms','host_verifications',\n",
    "                             'host_identity_verified'])))\n"
   ]
  },
  {
   "cell_type": "markdown",
   "metadata": {},
   "source": [
    "Ajuste de variables"
   ]
  }
 ],
 "metadata": {
  "kernelspec": {
   "display_name": "base",
   "language": "python",
   "name": "python3"
  },
  "language_info": {
   "codemirror_mode": {
    "name": "ipython",
    "version": 3
   },
   "file_extension": ".py",
   "mimetype": "text/x-python",
   "name": "python",
   "nbconvert_exporter": "python",
   "pygments_lexer": "ipython3",
   "version": "3.9.12"
  }
 },
 "nbformat": 4,
 "nbformat_minor": 2
}
